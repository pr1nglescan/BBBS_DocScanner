{
 "cells": [
  {
   "cell_type": "markdown",
   "id": "6c75119a",
   "metadata": {},
   "source": [
    "# RightSignature Certificate Scanner"
   ]
  },
  {
   "cell_type": "code",
   "execution_count": 1,
   "id": "7822053f",
   "metadata": {
    "scrolled": true
   },
   "outputs": [
    {
     "name": "stdout",
     "output_type": "stream",
     "text": [
      "Requirement already satisfied: PyPDF2 in c:\\users\\dkuang\\appdata\\local\\anaconda3\\lib\\site-packages (3.0.1)\n",
      "Requirement already satisfied: openpyxl in c:\\users\\dkuang\\appdata\\local\\anaconda3\\lib\\site-packages (3.0.10)\n",
      "Requirement already satisfied: et_xmlfile in c:\\users\\dkuang\\appdata\\local\\anaconda3\\lib\\site-packages (from openpyxl) (1.1.0)\n"
     ]
    }
   ],
   "source": [
    "import sys\n",
    "import os\n",
    "import re\n",
    "from PyPDF2 import PdfReader\n",
    "from openpyxl import Workbook\n",
    "from openpyxl.styles import Color, colors, PatternFill\n",
    "\n",
    "!{sys.executable} -m pip install PyPDF2\n",
    "!{sys.executable} -m pip install openpyxl"
   ]
  },
  {
   "cell_type": "code",
   "execution_count": 2,
   "id": "02bbb5b2",
   "metadata": {
    "scrolled": true
   },
   "outputs": [],
   "source": [
    "#INSERT YOUR OWN FOLDER PATH HERE\n",
    "#Folder should consist of ONLY the PDFs that need to be checked\n",
    "pathName = r\"C:\\Users\\dkuang\\Downloads\\Davids_Folder\"\n",
    "os.chdir(pathName)"
   ]
  },
  {
   "cell_type": "markdown",
   "id": "d6e901b2",
   "metadata": {},
   "source": [
    "## ref_finder() takes the name of the file and its page length (w/o certificate) and returns a reference number if found"
   ]
  },
  {
   "cell_type": "markdown",
   "id": "b7790d72",
   "metadata": {},
   "source": [
    "### It's possible to also extract the names of the Bigs and Littles to add to a spreadsheet- let me know if you'd like that"
   ]
  },
  {
   "cell_type": "code",
   "execution_count": 4,
   "id": "783a1a6e",
   "metadata": {
    "scrolled": true
   },
   "outputs": [
    {
     "name": "stdout",
     "output_type": "stream",
     "text": [
      "\n"
     ]
    }
   ],
   "source": [
    "def ref_finder(fileName, doclength):\n",
    "    file_pdf = PdfReader(fileName)\n",
    "    num_pages = len(file_pdf.pages)\n",
    "    if (num_pages <= doclength): #if there are no additional pages,\n",
    "        return \"\" #then there certainly isn't a rightSignature certificate\n",
    "    else:\n",
    "        cert_page = file_pdf.pages[doclength] #isolates first page of certificate\n",
    "        cert_content = cert_page.extract_text()\n",
    "        #searches certificate page for a potential reference number\n",
    "        ref_num = re.search(r\"\\w{8}-\\w{4}-\\w{4}-\\w{4}-\\w{12}\", cert_content)\n",
    "        if (ref_num == None):\n",
    "            return \"\"\n",
    "        else:\n",
    "            return ref_num.group()\n",
    "\n",
    "#test\n",
    "print(ref_finder(\"69374.pdf\", 2))"
   ]
  },
  {
   "cell_type": "markdown",
   "id": "57d8acc3",
   "metadata": {},
   "source": [
    "## folder_refs() scans through a folder of PDFs and returns a dictionary of file names with reference numbers"
   ]
  },
  {
   "cell_type": "code",
   "execution_count": 5,
   "id": "79255b6c",
   "metadata": {},
   "outputs": [
    {
     "name": "stdout",
     "output_type": "stream",
     "text": [
      "{'69374.pdf': '', '69380.pdf': '', '69390.pdf': '', '69391.pdf': '53B7EE86-6D80-4983-8C05-C7EC579A8F32', '69416.pdf': '', '69422.pdf': '', '69424.pdf': '', '69426.pdf': '', '69428.pdf': '', '69475.pdf': '', '69520.pdf': 'DCFA6CAB-D71E-4FAA-A5AD-9664A445FA3A', '69594.pdf': '', '69595.pdf': '', '70152.pdf': 'D944484B-01B1-42A6-BE67-7710580E0BB2', '70284.pdf': 'D1E49C4C-5C82-4654-B0D9-BE1E1AA1E459', '70602.pdf': 'BC6BED7D-CFB3-40BD-8C73-BB834718722C', '70673.pdf': '68A0512C-8ACD-438E-BD5C-66038380847F', '70682.pdf': '66EB1B64-BE67-44CD-9719-12B779398E9D', '70784.pdf': 'B2D314DC-3AEE-43CC-8753-71176CBE94E1', '70969.pdf': 'E7F100C5-8401-487A-ACC9-C9A7635705FC', '71063.pdf': 'DACF48B2-232C-408C-B3DB-E74344559644', '71070.pdf': 'BA88A5D0-74F5-43DC-AC56-C86C23B8AB36'}\n"
     ]
    }
   ],
   "source": [
    "def folder_refs(path):\n",
    "    files = os.listdir(path)\n",
    "    ref_dict = dict()\n",
    "    for item in files:\n",
    "        ref_dict[item] = ref_finder(item, 2)\n",
    "        #for common ground agreements, page length is 2\n",
    "    return ref_dict\n",
    "\n",
    "#test\n",
    "print(folder_refs(pathName))"
   ]
  },
  {
   "cell_type": "markdown",
   "id": "53af87c5",
   "metadata": {},
   "source": [
    "### Here's the magic: outputting an excel file with the Match IDs and their RightSignature reference numbers. If no certificate is found, they are highlighted in red. "
   ]
  },
  {
   "cell_type": "code",
   "execution_count": 6,
   "id": "c87e3c13",
   "metadata": {},
   "outputs": [],
   "source": [
    "wb = Workbook()\n",
    "ws = wb[wb.sheetnames[0]]\n",
    "\n",
    "titles = ws.cell(row = 1, column = 1, value = \"File Name\")\n",
    "references = ws.cell(row = 1, column = 2, value = \"RightSignature Reference Number\")\n",
    "ws.freeze_panes = ws[\"A2\"]\n",
    "\n",
    "results = folder_refs(pathName).items()\n",
    "\n",
    "i = 2\n",
    "for file, ref in results:\n",
    "    file_cell = ws.cell(row = i, column = 1, value = file)\n",
    "    ref_cell = ws.cell(row = i, column = 2, value = ref)\n",
    "    if (ref.__eq__(\"\")):\n",
    "        file_cell.fill = PatternFill(\"solid\", fgColor=\"FF0000\")\n",
    "        ref_cell.fill = PatternFill(\"solid\", fgColor=\"FF0000\")\n",
    "    i += 1\n",
    "    \n",
    "#to store the excel file in another folder:\n",
    "#os.chdir(r\"path...\")\n",
    "        \n",
    "wb.save(\"tester.xlsx\")\n"
   ]
  },
  {
   "cell_type": "code",
   "execution_count": null,
   "id": "92ceacea",
   "metadata": {},
   "outputs": [],
   "source": []
  }
 ],
 "metadata": {
  "kernelspec": {
   "display_name": "Python 3 (ipykernel)",
   "language": "python",
   "name": "python3"
  },
  "language_info": {
   "codemirror_mode": {
    "name": "ipython",
    "version": 3
   },
   "file_extension": ".py",
   "mimetype": "text/x-python",
   "name": "python",
   "nbconvert_exporter": "python",
   "pygments_lexer": "ipython3",
   "version": "3.10.9"
  }
 },
 "nbformat": 4,
 "nbformat_minor": 5
}
